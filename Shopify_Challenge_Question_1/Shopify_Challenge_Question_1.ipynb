{
 "cells": [
  {
   "cell_type": "markdown",
   "id": "e5417114",
   "metadata": {},
   "source": [
    "# Question 1: \n",
    "\n",
    "Given some sample data, write a program to answer the following: click here to access the required data set\n",
    "\n",
    "On Shopify, we have exactly 100 sneaker shops, and each of these shops sells only one model of shoe. We want to do some analysis of the average order value (AOV). When we look at orders data over a 30 day window, we naively calculate an AOV of $3145.13. Given that we know these shops are selling sneakers, a relatively affordable item, something seems wrong with our analysis. \n",
    "\n",
    "* Think about what could be going wrong with our calculation. Think about a better way to evaluate this data. \n",
    "* What metric would you report for this dataset?\n",
    "* What is its value?\n"
   ]
  },
  {
   "cell_type": "code",
   "execution_count": 1,
   "id": "ad5f1611",
   "metadata": {},
   "outputs": [],
   "source": [
    "#import dependencies\n",
    "import pandas as pd\n",
    "import matplotlib.pyplot as plt"
   ]
  },
  {
   "cell_type": "code",
   "execution_count": 2,
   "id": "dfc13c8c",
   "metadata": {},
   "outputs": [
    {
     "data": {
      "text/html": [
       "<div>\n",
       "<style scoped>\n",
       "    .dataframe tbody tr th:only-of-type {\n",
       "        vertical-align: middle;\n",
       "    }\n",
       "\n",
       "    .dataframe tbody tr th {\n",
       "        vertical-align: top;\n",
       "    }\n",
       "\n",
       "    .dataframe thead th {\n",
       "        text-align: right;\n",
       "    }\n",
       "</style>\n",
       "<table border=\"1\" class=\"dataframe\">\n",
       "  <thead>\n",
       "    <tr style=\"text-align: right;\">\n",
       "      <th></th>\n",
       "      <th>order_id</th>\n",
       "      <th>shop_id</th>\n",
       "      <th>user_id</th>\n",
       "      <th>order_amount</th>\n",
       "      <th>total_items</th>\n",
       "      <th>payment_method</th>\n",
       "      <th>created_at</th>\n",
       "    </tr>\n",
       "  </thead>\n",
       "  <tbody>\n",
       "    <tr>\n",
       "      <th>0</th>\n",
       "      <td>1.0</td>\n",
       "      <td>53.0</td>\n",
       "      <td>746.0</td>\n",
       "      <td>224.0</td>\n",
       "      <td>2.0</td>\n",
       "      <td>cash</td>\n",
       "      <td>2017-03-13 12:36:56.190</td>\n",
       "    </tr>\n",
       "    <tr>\n",
       "      <th>1</th>\n",
       "      <td>2.0</td>\n",
       "      <td>92.0</td>\n",
       "      <td>925.0</td>\n",
       "      <td>90.0</td>\n",
       "      <td>1.0</td>\n",
       "      <td>cash</td>\n",
       "      <td>2017-03-03 17:38:51.999</td>\n",
       "    </tr>\n",
       "    <tr>\n",
       "      <th>2</th>\n",
       "      <td>3.0</td>\n",
       "      <td>44.0</td>\n",
       "      <td>861.0</td>\n",
       "      <td>144.0</td>\n",
       "      <td>1.0</td>\n",
       "      <td>cash</td>\n",
       "      <td>2017-03-14 04:23:55.595</td>\n",
       "    </tr>\n",
       "    <tr>\n",
       "      <th>3</th>\n",
       "      <td>4.0</td>\n",
       "      <td>18.0</td>\n",
       "      <td>935.0</td>\n",
       "      <td>156.0</td>\n",
       "      <td>1.0</td>\n",
       "      <td>credit_card</td>\n",
       "      <td>2017-03-26 12:43:36.649</td>\n",
       "    </tr>\n",
       "    <tr>\n",
       "      <th>4</th>\n",
       "      <td>5.0</td>\n",
       "      <td>18.0</td>\n",
       "      <td>883.0</td>\n",
       "      <td>156.0</td>\n",
       "      <td>1.0</td>\n",
       "      <td>credit_card</td>\n",
       "      <td>2017-03-01 04:35:10.773</td>\n",
       "    </tr>\n",
       "  </tbody>\n",
       "</table>\n",
       "</div>"
      ],
      "text/plain": [
       "   order_id  shop_id  user_id  order_amount  total_items payment_method  \\\n",
       "0       1.0     53.0    746.0         224.0          2.0           cash   \n",
       "1       2.0     92.0    925.0          90.0          1.0           cash   \n",
       "2       3.0     44.0    861.0         144.0          1.0           cash   \n",
       "3       4.0     18.0    935.0         156.0          1.0    credit_card   \n",
       "4       5.0     18.0    883.0         156.0          1.0    credit_card   \n",
       "\n",
       "               created_at  \n",
       "0 2017-03-13 12:36:56.190  \n",
       "1 2017-03-03 17:38:51.999  \n",
       "2 2017-03-14 04:23:55.595  \n",
       "3 2017-03-26 12:43:36.649  \n",
       "4 2017-03-01 04:35:10.773  "
      ]
     },
     "execution_count": 2,
     "metadata": {},
     "output_type": "execute_result"
    }
   ],
   "source": [
    "#read in the data\n",
    "sneaker_shop = pd.read_excel(\"2019 Winter Data Science Intern Challenge Data Set.xlsx\")\n",
    "sneaker_shop.head()"
   ]
  },
  {
   "cell_type": "code",
   "execution_count": 3,
   "id": "2ef4fc11",
   "metadata": {},
   "outputs": [
    {
     "data": {
      "text/plain": [
       "(5000, 7)"
      ]
     },
     "execution_count": 3,
     "metadata": {},
     "output_type": "execute_result"
    }
   ],
   "source": [
    "#shape of the dataset\n",
    "sneaker_shop.shape"
   ]
  },
  {
   "cell_type": "markdown",
   "id": "ab290dc7",
   "metadata": {},
   "source": [
    "### Data Exploration"
   ]
  },
  {
   "cell_type": "code",
   "execution_count": 4,
   "id": "81de226a",
   "metadata": {},
   "outputs": [
    {
     "data": {
      "text/plain": [
       "order_id                 float64\n",
       "shop_id                  float64\n",
       "user_id                  float64\n",
       "order_amount             float64\n",
       "total_items              float64\n",
       "payment_method            object\n",
       "created_at        datetime64[ns]\n",
       "dtype: object"
      ]
     },
     "execution_count": 4,
     "metadata": {},
     "output_type": "execute_result"
    }
   ],
   "source": [
    "#column datatypes\n",
    "sneaker_shop.dtypes"
   ]
  },
  {
   "cell_type": "code",
   "execution_count": 5,
   "id": "9d68ea30",
   "metadata": {},
   "outputs": [
    {
     "data": {
      "text/plain": [
       "order_id          0\n",
       "shop_id           0\n",
       "user_id           0\n",
       "order_amount      0\n",
       "total_items       0\n",
       "payment_method    0\n",
       "created_at        0\n",
       "dtype: int64"
      ]
     },
     "execution_count": 5,
     "metadata": {},
     "output_type": "execute_result"
    }
   ],
   "source": [
    "#check for null values\n",
    "sneaker_shop.isnull().sum()"
   ]
  },
  {
   "cell_type": "code",
   "execution_count": 6,
   "id": "0969c2f8",
   "metadata": {},
   "outputs": [
    {
     "data": {
      "text/plain": [
       "0"
      ]
     },
     "execution_count": 6,
     "metadata": {},
     "output_type": "execute_result"
    }
   ],
   "source": [
    "#check for duplicate values\n",
    "sneaker_shop.duplicated().sum()"
   ]
  },
  {
   "cell_type": "markdown",
   "id": "0837f65e",
   "metadata": {},
   "source": [
    "#### Section I: Checking the \"total_items\" column"
   ]
  },
  {
   "cell_type": "code",
   "execution_count": 7,
   "id": "99a17ec9",
   "metadata": {},
   "outputs": [
    {
     "data": {
      "text/plain": [
       "2.0       1832\n",
       "1.0       1830\n",
       "3.0        941\n",
       "4.0        293\n",
       "5.0         77\n",
       "2000.0      17\n",
       "6.0          9\n",
       "8.0          1\n",
       "Name: total_items, dtype: int64"
      ]
     },
     "execution_count": 7,
     "metadata": {},
     "output_type": "execute_result"
    }
   ],
   "source": [
    "#lets see what are the unique number of items for each order\n",
    "sneaker_shop[\"total_items\"].value_counts()"
   ]
  },
  {
   "cell_type": "markdown",
   "id": "ddfb5776",
   "metadata": {},
   "source": [
    "From above, we see that orders at the shops are usually between 1-10 in the 30 day window except some stores whose orders are 2000. Lets see which stores have orders of 2000. "
   ]
  },
  {
   "cell_type": "code",
   "execution_count": 8,
   "id": "79ebd669",
   "metadata": {},
   "outputs": [
    {
     "data": {
      "text/plain": [
       "array([42.])"
      ]
     },
     "execution_count": 8,
     "metadata": {},
     "output_type": "execute_result"
    }
   ],
   "source": [
    "#find shop_ids for shops that have orders of 2000\n",
    "sneaker_shop[sneaker_shop[\"total_items\"]==2000][\"shop_id\"].unique()\n"
   ]
  },
  {
   "cell_type": "code",
   "execution_count": 9,
   "id": "ff0478a7",
   "metadata": {},
   "outputs": [],
   "source": [
    "#Only shop 42 has orders of 2000. Lets check the others orders from shop 42."
   ]
  },
  {
   "cell_type": "code",
   "execution_count": 10,
   "id": "da49d78c",
   "metadata": {},
   "outputs": [
    {
     "data": {
      "text/plain": [
       "2000.0    17\n",
       "1.0       15\n",
       "2.0       13\n",
       "3.0        3\n",
       "4.0        2\n",
       "5.0        1\n",
       "Name: total_items, dtype: int64"
      ]
     },
     "execution_count": 10,
     "metadata": {},
     "output_type": "execute_result"
    }
   ],
   "source": [
    "sneaker_shop[sneaker_shop[\"shop_id\"]==42.0][\"total_items\"].value_counts()"
   ]
  },
  {
   "cell_type": "code",
   "execution_count": 11,
   "id": "6cef9bab",
   "metadata": {},
   "outputs": [
    {
     "data": {
      "text/plain": [
       "(51, 7)"
      ]
     },
     "execution_count": 11,
     "metadata": {},
     "output_type": "execute_result"
    }
   ],
   "source": [
    "shop_42 = sneaker_shop[sneaker_shop[\"shop_id\"]==42.0]\n",
    "shop_42.shape"
   ]
  },
  {
   "cell_type": "code",
   "execution_count": 12,
   "id": "6af4aa97",
   "metadata": {},
   "outputs": [
    {
     "name": "stderr",
     "output_type": "stream",
     "text": [
      "/var/folders/49/2zvl04l11_s5vlbf8vnfy7cw0000gn/T/ipykernel_26071/1609113107.py:1: SettingWithCopyWarning: \n",
      "A value is trying to be set on a copy of a slice from a DataFrame.\n",
      "Try using .loc[row_indexer,col_indexer] = value instead\n",
      "\n",
      "See the caveats in the documentation: https://pandas.pydata.org/pandas-docs/stable/user_guide/indexing.html#returning-a-view-versus-a-copy\n",
      "  shop_42[\"AOV\"] = shop_42[\"order_amount\"]/shop_42[\"total_items\"]\n"
     ]
    },
    {
     "data": {
      "text/plain": [
       "352.0    51\n",
       "Name: AOV, dtype: int64"
      ]
     },
     "execution_count": 12,
     "metadata": {},
     "output_type": "execute_result"
    }
   ],
   "source": [
    "shop_42[\"AOV\"] = shop_42[\"order_amount\"]/shop_42[\"total_items\"]\n",
    "shop_42 = shop_42.sort_values(by = [\"AOV\"],ascending = False)\n",
    "shop_42[\"AOV\"].value_counts()"
   ]
  },
  {
   "cell_type": "markdown",
   "id": "7ee956b5",
   "metadata": {},
   "source": [
    "Average value per order for shop 42 is 352. There does not seem to be any anomaly. "
   ]
  },
  {
   "cell_type": "markdown",
   "id": "42cb07d8",
   "metadata": {},
   "source": [
    "### Section II: Average Order Value (AOV)"
   ]
  },
  {
   "cell_type": "code",
   "execution_count": 13,
   "id": "2576e128",
   "metadata": {},
   "outputs": [
    {
     "data": {
      "text/html": [
       "<div>\n",
       "<style scoped>\n",
       "    .dataframe tbody tr th:only-of-type {\n",
       "        vertical-align: middle;\n",
       "    }\n",
       "\n",
       "    .dataframe tbody tr th {\n",
       "        vertical-align: top;\n",
       "    }\n",
       "\n",
       "    .dataframe thead th {\n",
       "        text-align: right;\n",
       "    }\n",
       "</style>\n",
       "<table border=\"1\" class=\"dataframe\">\n",
       "  <thead>\n",
       "    <tr style=\"text-align: right;\">\n",
       "      <th></th>\n",
       "      <th>order_amount</th>\n",
       "      <th>total_items</th>\n",
       "    </tr>\n",
       "  </thead>\n",
       "  <tbody>\n",
       "    <tr>\n",
       "      <th>count</th>\n",
       "      <td>5000.000000</td>\n",
       "      <td>5000.00000</td>\n",
       "    </tr>\n",
       "    <tr>\n",
       "      <th>mean</th>\n",
       "      <td>3145.128000</td>\n",
       "      <td>8.78720</td>\n",
       "    </tr>\n",
       "    <tr>\n",
       "      <th>std</th>\n",
       "      <td>41282.539349</td>\n",
       "      <td>116.32032</td>\n",
       "    </tr>\n",
       "    <tr>\n",
       "      <th>min</th>\n",
       "      <td>90.000000</td>\n",
       "      <td>1.00000</td>\n",
       "    </tr>\n",
       "    <tr>\n",
       "      <th>25%</th>\n",
       "      <td>163.000000</td>\n",
       "      <td>1.00000</td>\n",
       "    </tr>\n",
       "    <tr>\n",
       "      <th>50%</th>\n",
       "      <td>284.000000</td>\n",
       "      <td>2.00000</td>\n",
       "    </tr>\n",
       "    <tr>\n",
       "      <th>75%</th>\n",
       "      <td>390.000000</td>\n",
       "      <td>3.00000</td>\n",
       "    </tr>\n",
       "    <tr>\n",
       "      <th>max</th>\n",
       "      <td>704000.000000</td>\n",
       "      <td>2000.00000</td>\n",
       "    </tr>\n",
       "  </tbody>\n",
       "</table>\n",
       "</div>"
      ],
      "text/plain": [
       "        order_amount  total_items\n",
       "count    5000.000000   5000.00000\n",
       "mean     3145.128000      8.78720\n",
       "std     41282.539349    116.32032\n",
       "min        90.000000      1.00000\n",
       "25%       163.000000      1.00000\n",
       "50%       284.000000      2.00000\n",
       "75%       390.000000      3.00000\n",
       "max    704000.000000   2000.00000"
      ]
     },
     "execution_count": 13,
     "metadata": {},
     "output_type": "execute_result"
    }
   ],
   "source": [
    "#summary statistics for orde_amount and total_items\n",
    "sneaker_shop[[\"order_amount\", \"total_items\"]].describe()"
   ]
  },
  {
   "cell_type": "markdown",
   "id": "e2839d6a",
   "metadata": {},
   "source": [
    "The original calculation for AOV (given in problem statement) seems to have just taken the mean (3145.13) of the order_amount without taking into account total_items ordered. \n",
    "\n",
    "The standard deviation and max value is also very high indicating there are some outliers. "
   ]
  },
  {
   "cell_type": "code",
   "execution_count": 14,
   "id": "308c3618",
   "metadata": {},
   "outputs": [
    {
     "name": "stdout",
     "output_type": "stream",
     "text": [
      "(5000, 3)\n"
     ]
    },
    {
     "data": {
      "text/html": [
       "<div>\n",
       "<style scoped>\n",
       "    .dataframe tbody tr th:only-of-type {\n",
       "        vertical-align: middle;\n",
       "    }\n",
       "\n",
       "    .dataframe tbody tr th {\n",
       "        vertical-align: top;\n",
       "    }\n",
       "\n",
       "    .dataframe thead th {\n",
       "        text-align: right;\n",
       "    }\n",
       "</style>\n",
       "<table border=\"1\" class=\"dataframe\">\n",
       "  <thead>\n",
       "    <tr style=\"text-align: right;\">\n",
       "      <th></th>\n",
       "      <th>shop_id</th>\n",
       "      <th>order_amount</th>\n",
       "      <th>total_items</th>\n",
       "    </tr>\n",
       "  </thead>\n",
       "  <tbody>\n",
       "    <tr>\n",
       "      <th>0</th>\n",
       "      <td>53.0</td>\n",
       "      <td>224.0</td>\n",
       "      <td>2.0</td>\n",
       "    </tr>\n",
       "    <tr>\n",
       "      <th>1</th>\n",
       "      <td>92.0</td>\n",
       "      <td>90.0</td>\n",
       "      <td>1.0</td>\n",
       "    </tr>\n",
       "    <tr>\n",
       "      <th>2</th>\n",
       "      <td>44.0</td>\n",
       "      <td>144.0</td>\n",
       "      <td>1.0</td>\n",
       "    </tr>\n",
       "    <tr>\n",
       "      <th>3</th>\n",
       "      <td>18.0</td>\n",
       "      <td>156.0</td>\n",
       "      <td>1.0</td>\n",
       "    </tr>\n",
       "    <tr>\n",
       "      <th>4</th>\n",
       "      <td>18.0</td>\n",
       "      <td>156.0</td>\n",
       "      <td>1.0</td>\n",
       "    </tr>\n",
       "  </tbody>\n",
       "</table>\n",
       "</div>"
      ],
      "text/plain": [
       "   shop_id  order_amount  total_items\n",
       "0     53.0         224.0          2.0\n",
       "1     92.0          90.0          1.0\n",
       "2     44.0         144.0          1.0\n",
       "3     18.0         156.0          1.0\n",
       "4     18.0         156.0          1.0"
      ]
     },
     "execution_count": 14,
     "metadata": {},
     "output_type": "execute_result"
    }
   ],
   "source": [
    "#drop unwanted columns\n",
    "sneakers = sneaker_shop.drop(columns = [\"order_id\", \"user_id\", \"payment_method\", \"created_at\"])\n",
    "print(sneakers.shape)\n",
    "sneakers.head()"
   ]
  },
  {
   "cell_type": "code",
   "execution_count": 15,
   "id": "d1303306",
   "metadata": {},
   "outputs": [
    {
     "data": {
      "text/html": [
       "<div>\n",
       "<style scoped>\n",
       "    .dataframe tbody tr th:only-of-type {\n",
       "        vertical-align: middle;\n",
       "    }\n",
       "\n",
       "    .dataframe tbody tr th {\n",
       "        vertical-align: top;\n",
       "    }\n",
       "\n",
       "    .dataframe thead th {\n",
       "        text-align: right;\n",
       "    }\n",
       "</style>\n",
       "<table border=\"1\" class=\"dataframe\">\n",
       "  <thead>\n",
       "    <tr style=\"text-align: right;\">\n",
       "      <th></th>\n",
       "      <th>shop_id</th>\n",
       "      <th>order_amount</th>\n",
       "      <th>total_items</th>\n",
       "      <th>AOV</th>\n",
       "    </tr>\n",
       "  </thead>\n",
       "  <tbody>\n",
       "    <tr>\n",
       "      <th>4420</th>\n",
       "      <td>78.0</td>\n",
       "      <td>77175.0</td>\n",
       "      <td>3.0</td>\n",
       "      <td>25725.0</td>\n",
       "    </tr>\n",
       "    <tr>\n",
       "      <th>2906</th>\n",
       "      <td>78.0</td>\n",
       "      <td>77175.0</td>\n",
       "      <td>3.0</td>\n",
       "      <td>25725.0</td>\n",
       "    </tr>\n",
       "    <tr>\n",
       "      <th>4505</th>\n",
       "      <td>78.0</td>\n",
       "      <td>25725.0</td>\n",
       "      <td>1.0</td>\n",
       "      <td>25725.0</td>\n",
       "    </tr>\n",
       "    <tr>\n",
       "      <th>493</th>\n",
       "      <td>78.0</td>\n",
       "      <td>51450.0</td>\n",
       "      <td>2.0</td>\n",
       "      <td>25725.0</td>\n",
       "    </tr>\n",
       "    <tr>\n",
       "      <th>2452</th>\n",
       "      <td>78.0</td>\n",
       "      <td>51450.0</td>\n",
       "      <td>2.0</td>\n",
       "      <td>25725.0</td>\n",
       "    </tr>\n",
       "  </tbody>\n",
       "</table>\n",
       "</div>"
      ],
      "text/plain": [
       "      shop_id  order_amount  total_items      AOV\n",
       "4420     78.0       77175.0          3.0  25725.0\n",
       "2906     78.0       77175.0          3.0  25725.0\n",
       "4505     78.0       25725.0          1.0  25725.0\n",
       "493      78.0       51450.0          2.0  25725.0\n",
       "2452     78.0       51450.0          2.0  25725.0"
      ]
     },
     "execution_count": 15,
     "metadata": {},
     "output_type": "execute_result"
    }
   ],
   "source": [
    "#Calculate Average Order Value for each order and add a AOV column to the dataframe. \n",
    "\n",
    "sneakers[\"AOV\"] = sneakers[\"order_amount\"]/sneakers[\"total_items\"]\n",
    "sneakers = sneakers.sort_values(by = [\"AOV\"],ascending = False)\n",
    "sneakers.head()"
   ]
  },
  {
   "cell_type": "code",
   "execution_count": 16,
   "id": "e0e82abc",
   "metadata": {},
   "outputs": [
    {
     "name": "stdout",
     "output_type": "stream",
     "text": [
      "No of unique AOVs in dataset : 58\n"
     ]
    },
    {
     "data": {
      "text/plain": [
       "array([25725.,   352.,   201.,   196.,   195.,   193.,   190.,   187.,\n",
       "         184.,   181.,   178.,   177.,   176.,   173.,   172.,   171.,\n",
       "         169.,   168.,   166.,   165.,   164.,   163.,   162.,   161.,\n",
       "         160.,   158.,   156.,   155.,   154.,   153.,   149.,   148.,\n",
       "         147.,   146.,   145.,   144.,   142.,   140.,   138.,   136.,\n",
       "         134.,   133.,   132.,   131.,   130.,   129.,   128.,   127.,\n",
       "         122.,   118.,   117.,   116.,   114.,   112.,   111.,   101.,\n",
       "          94.,    90.])"
      ]
     },
     "execution_count": 16,
     "metadata": {},
     "output_type": "execute_result"
    }
   ],
   "source": [
    "#Lets see how many unique AOVs are there\n",
    "print(f\"No of unique AOVs in dataset : {sneakers['AOV'].nunique()}\")\n",
    "sneakers[\"AOV\"].unique()"
   ]
  },
  {
   "cell_type": "code",
   "execution_count": 17,
   "id": "c1b9c92e",
   "metadata": {},
   "outputs": [
    {
     "data": {
      "text/plain": [
       "{'whiskers': [<matplotlib.lines.Line2D at 0x7fd3dcd195e0>,\n",
       "  <matplotlib.lines.Line2D at 0x7fd3dcd198b0>],\n",
       " 'caps': [<matplotlib.lines.Line2D at 0x7fd3dcd19c40>,\n",
       "  <matplotlib.lines.Line2D at 0x7fd3dcd19fd0>],\n",
       " 'boxes': [<matplotlib.lines.Line2D at 0x7fd3dcd2d070>],\n",
       " 'medians': [<matplotlib.lines.Line2D at 0x7fd3dcd463a0>],\n",
       " 'fliers': [<matplotlib.lines.Line2D at 0x7fd3dcd46730>],\n",
       " 'means': []}"
      ]
     },
     "execution_count": 17,
     "metadata": {},
     "output_type": "execute_result"
    },
    {
     "data": {
      "image/png": "[encoded data removed]",
      "text/plain": [
       "<Figure size 432x288 with 1 Axes>"
      ]
     },
     "metadata": {
      "needs_background": "light"
     },
     "output_type": "display_data"
    }
   ],
   "source": [
    "#boxplot to visually see the outliers\n",
    "x=sneakers[\"AOV\"]\n",
    "plt.boxplot(x)"
   ]
  },
  {
   "cell_type": "code",
   "execution_count": 18,
   "id": "12b8032d",
   "metadata": {},
   "outputs": [
    {
     "data": {
      "text/plain": [
       "array([78.])"
      ]
     },
     "execution_count": 18,
     "metadata": {},
     "output_type": "execute_result"
    }
   ],
   "source": [
    "sneakers[sneakers[\"AOV\"]==25725][\"shop_id\"].unique()"
   ]
  },
  {
   "cell_type": "code",
   "execution_count": 19,
   "id": "b0200540",
   "metadata": {},
   "outputs": [
    {
     "data": {
      "text/plain": [
       "(46,)"
      ]
     },
     "execution_count": 19,
     "metadata": {},
     "output_type": "execute_result"
    }
   ],
   "source": [
    "sneakers[sneakers[\"AOV\"]==25725][\"shop_id\"].shape"
   ]
  },
  {
   "cell_type": "markdown",
   "id": "d5456f14",
   "metadata": {},
   "source": [
    "We can see there is one outlier with shop_id 78 with 46 orders with AOV of 25725 that is  substantially higher than the other data points. "
   ]
  },
  {
   "cell_type": "markdown",
   "id": "ee68bef4",
   "metadata": {},
   "source": [
    "### Section III Mean and Median\n",
    "\n",
    "Lets compare  scenarios where we calculate mean and median for AOV (Average Order Value) before and after removing the outlier 25725. \n",
    "\n"
   ]
  },
  {
   "cell_type": "markdown",
   "id": "81aa44e3",
   "metadata": {},
   "source": [
    "##### Mean and Median AOV before removing the outlier"
   ]
  },
  {
   "cell_type": "code",
   "execution_count": 20,
   "id": "84766425",
   "metadata": {},
   "outputs": [
    {
     "data": {
      "text/plain": [
       "153.0"
      ]
     },
     "execution_count": 20,
     "metadata": {},
     "output_type": "execute_result"
    }
   ],
   "source": [
    "#calculate median AOV\n",
    "sneakers[\"AOV\"].median()"
   ]
  },
  {
   "cell_type": "code",
   "execution_count": 21,
   "id": "b92e869b",
   "metadata": {},
   "outputs": [
    {
     "data": {
      "text/plain": [
       "387.7428"
      ]
     },
     "execution_count": 21,
     "metadata": {},
     "output_type": "execute_result"
    }
   ],
   "source": [
    "#calculate average AOV\n",
    "sneakers[\"AOV\"].mean()\n"
   ]
  },
  {
   "cell_type": "markdown",
   "id": "438d96be",
   "metadata": {},
   "source": [
    "We can that mean(387.74) and median (153.0) are far apart. More specifically Mean is more than $200 over the median and closer to the 75th percentile (390.0) from our summary statistics calculation. \n",
    "\n",
    "Now lets see what happens when we remove the outlier data and calculate mean and median again. "
   ]
  },
  {
   "cell_type": "markdown",
   "id": "c9b31678",
   "metadata": {},
   "source": [
    "##### Mean and Median AOV after removing the outlier "
   ]
  },
  {
   "cell_type": "code",
   "execution_count": 22,
   "id": "582d5a44",
   "metadata": {},
   "outputs": [
    {
     "name": "stdout",
     "output_type": "stream",
     "text": [
      "The shape of the dataset is :(4954, 4)\n"
     ]
    },
    {
     "data": {
      "text/html": [
       "<div>\n",
       "<style scoped>\n",
       "    .dataframe tbody tr th:only-of-type {\n",
       "        vertical-align: middle;\n",
       "    }\n",
       "\n",
       "    .dataframe tbody tr th {\n",
       "        vertical-align: top;\n",
       "    }\n",
       "\n",
       "    .dataframe thead th {\n",
       "        text-align: right;\n",
       "    }\n",
       "</style>\n",
       "<table border=\"1\" class=\"dataframe\">\n",
       "  <thead>\n",
       "    <tr style=\"text-align: right;\">\n",
       "      <th></th>\n",
       "      <th>shop_id</th>\n",
       "      <th>order_amount</th>\n",
       "      <th>total_items</th>\n",
       "      <th>AOV</th>\n",
       "    </tr>\n",
       "  </thead>\n",
       "  <tbody>\n",
       "    <tr>\n",
       "      <th>3697</th>\n",
       "      <td>42.0</td>\n",
       "      <td>352.0</td>\n",
       "      <td>1.0</td>\n",
       "      <td>352.0</td>\n",
       "    </tr>\n",
       "    <tr>\n",
       "      <th>1929</th>\n",
       "      <td>42.0</td>\n",
       "      <td>352.0</td>\n",
       "      <td>1.0</td>\n",
       "      <td>352.0</td>\n",
       "    </tr>\n",
       "    <tr>\n",
       "      <th>1911</th>\n",
       "      <td>42.0</td>\n",
       "      <td>704.0</td>\n",
       "      <td>2.0</td>\n",
       "      <td>352.0</td>\n",
       "    </tr>\n",
       "    <tr>\n",
       "      <th>308</th>\n",
       "      <td>42.0</td>\n",
       "      <td>352.0</td>\n",
       "      <td>1.0</td>\n",
       "      <td>352.0</td>\n",
       "    </tr>\n",
       "    <tr>\n",
       "      <th>2987</th>\n",
       "      <td>42.0</td>\n",
       "      <td>1056.0</td>\n",
       "      <td>3.0</td>\n",
       "      <td>352.0</td>\n",
       "    </tr>\n",
       "  </tbody>\n",
       "</table>\n",
       "</div>"
      ],
      "text/plain": [
       "      shop_id  order_amount  total_items    AOV\n",
       "3697     42.0         352.0          1.0  352.0\n",
       "1929     42.0         352.0          1.0  352.0\n",
       "1911     42.0         704.0          2.0  352.0\n",
       "308      42.0         352.0          1.0  352.0\n",
       "2987     42.0        1056.0          3.0  352.0"
      ]
     },
     "execution_count": 22,
     "metadata": {},
     "output_type": "execute_result"
    }
   ],
   "source": [
    "#drop rows which have AOV = 25725\n",
    "sneakers_drop78= sneakers[sneakers.AOV != 25725]\n",
    "print(f\"The shape of the dataset is :{sneakers_drop78.shape}\")\n",
    "sneakers_drop78.head()"
   ]
  },
  {
   "cell_type": "code",
   "execution_count": 23,
   "id": "32adffb2",
   "metadata": {},
   "outputs": [
    {
     "data": {
      "text/plain": [
       "153.0"
      ]
     },
     "execution_count": 23,
     "metadata": {},
     "output_type": "execute_result"
    }
   ],
   "source": [
    "sneakers_drop78[\"AOV\"].median()"
   ]
  },
  {
   "cell_type": "code",
   "execution_count": 24,
   "id": "788a124d",
   "metadata": {},
   "outputs": [
    {
     "data": {
      "text/plain": [
       "152.47557529269278"
      ]
     },
     "execution_count": 24,
     "metadata": {},
     "output_type": "execute_result"
    }
   ],
   "source": [
    "sneakers_drop78[\"AOV\"].mean()"
   ]
  },
  {
   "cell_type": "markdown",
   "id": "a0f8e303",
   "metadata": {},
   "source": [
    "The median remains the same at 153.0 and mean (152.48) is now closer to the median meaning the data set now has a symmetrical distribution. "
   ]
  },
  {
   "cell_type": "markdown",
   "id": "414a71be",
   "metadata": {},
   "source": [
    "# Conclusion \n",
    "\n",
    "\n",
    "In this dataset, we observed that the mean and median far apart when outliers are not removed. More specifically Mean is more than \\\\$200 over the median. From furthur observation of the dataset, that shop_id 78 has several orders with an  AOV of \\\\$25725 which does not agree with the characterization of affordable shoes in the description. We note that the larger mean is a direct result of this outlier. \n",
    "\n",
    "To prove this hypothesis, we prune the outliers from the dataset and recompute the mean. Such a recomputed mean is closer to the median,  which proves the hypothesis. \n",
    "\n",
    "For the highlighted reason Median is a better measure of AOV than mean for this dataset. "
   ]
  }
 ],
 "metadata": {
  "kernelspec": {
   "display_name": "Python 3 (ipykernel)",
   "language": "python",
   "name": "python3"
  },
  "language_info": {
   "codemirror_mode": {
    "name": "ipython",
    "version": 3
   },
   "file_extension": ".py",
   "mimetype": "text/x-python",
   "name": "python",
   "nbconvert_exporter": "python",
   "pygments_lexer": "ipython3",
   "version": "3.9.7"
  }
 },
 "nbformat": 4,
 "nbformat_minor": 5
}
